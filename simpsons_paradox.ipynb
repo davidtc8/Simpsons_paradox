{
 "cells": [
  {
   "cell_type": "markdown",
   "metadata": {
    "collapsed": true
   },
   "source": [
    "# Simpson's Paradox\n",
    "Use `admission_data.csv` for this exercise."
   ]
  },
  {
   "cell_type": "code",
   "execution_count": 1,
   "metadata": {},
   "outputs": [],
   "source": [
    "import pandas as pd"
   ]
  },
  {
   "cell_type": "code",
   "execution_count": 2,
   "metadata": {},
   "outputs": [
    {
     "data": {
      "text/html": [
       "<div>\n",
       "<style scoped>\n",
       "    .dataframe tbody tr th:only-of-type {\n",
       "        vertical-align: middle;\n",
       "    }\n",
       "\n",
       "    .dataframe tbody tr th {\n",
       "        vertical-align: top;\n",
       "    }\n",
       "\n",
       "    .dataframe thead th {\n",
       "        text-align: right;\n",
       "    }\n",
       "</style>\n",
       "<table border=\"1\" class=\"dataframe\">\n",
       "  <thead>\n",
       "    <tr style=\"text-align: right;\">\n",
       "      <th></th>\n",
       "      <th>student_id</th>\n",
       "      <th>gender</th>\n",
       "      <th>major</th>\n",
       "      <th>admitted</th>\n",
       "    </tr>\n",
       "  </thead>\n",
       "  <tbody>\n",
       "    <tr>\n",
       "      <th>0</th>\n",
       "      <td>35377</td>\n",
       "      <td>female</td>\n",
       "      <td>Chemistry</td>\n",
       "      <td>False</td>\n",
       "    </tr>\n",
       "    <tr>\n",
       "      <th>1</th>\n",
       "      <td>56105</td>\n",
       "      <td>male</td>\n",
       "      <td>Physics</td>\n",
       "      <td>True</td>\n",
       "    </tr>\n",
       "    <tr>\n",
       "      <th>2</th>\n",
       "      <td>31441</td>\n",
       "      <td>female</td>\n",
       "      <td>Chemistry</td>\n",
       "      <td>False</td>\n",
       "    </tr>\n",
       "    <tr>\n",
       "      <th>3</th>\n",
       "      <td>51765</td>\n",
       "      <td>male</td>\n",
       "      <td>Physics</td>\n",
       "      <td>True</td>\n",
       "    </tr>\n",
       "    <tr>\n",
       "      <th>4</th>\n",
       "      <td>53714</td>\n",
       "      <td>female</td>\n",
       "      <td>Physics</td>\n",
       "      <td>True</td>\n",
       "    </tr>\n",
       "  </tbody>\n",
       "</table>\n",
       "</div>"
      ],
      "text/plain": [
       "   student_id  gender      major  admitted\n",
       "0       35377  female  Chemistry     False\n",
       "1       56105    male    Physics      True\n",
       "2       31441  female  Chemistry     False\n",
       "3       51765    male    Physics      True\n",
       "4       53714  female    Physics      True"
      ]
     },
     "execution_count": 2,
     "metadata": {},
     "output_type": "execute_result"
    }
   ],
   "source": [
    "# Load and view first few lines of dataset\n",
    "df = pd.read_csv(r'admission_data.csv')\n",
    "df.head(5)"
   ]
  },
  {
   "cell_type": "markdown",
   "metadata": {},
   "source": [
    "### Proportion and admission rate for each gender"
   ]
  },
  {
   "cell_type": "code",
   "execution_count": 3,
   "metadata": {},
   "outputs": [
    {
     "data": {
      "text/plain": [
       "0.514"
      ]
     },
     "execution_count": 3,
     "metadata": {},
     "output_type": "execute_result"
    }
   ],
   "source": [
    "# Proportion of students that are female\n",
    "df_female = df[df['gender']=='female']\n",
    "proportion_female = df_female.gender.count() / df.gender.count()\n",
    "proportion_female"
   ]
  },
  {
   "cell_type": "code",
   "execution_count": 4,
   "metadata": {},
   "outputs": [
    {
     "data": {
      "text/plain": [
       "0.486"
      ]
     },
     "execution_count": 4,
     "metadata": {},
     "output_type": "execute_result"
    }
   ],
   "source": [
    "# Proportion of students that are male\n",
    "df_male = df[df['gender']=='male']\n",
    "proportion_male = df_male.gender.count() / df.gender.count()\n",
    "proportion_male"
   ]
  },
  {
   "cell_type": "markdown",
   "metadata": {},
   "source": [
    "#### By looking at the admission rates, it seems that the **males** are being favored in the admission process."
   ]
  },
  {
   "cell_type": "code",
   "execution_count": 13,
   "metadata": {
    "scrolled": true
   },
   "outputs": [
    {
     "data": {
      "text/plain": [
       "0.28793774319066145"
      ]
     },
     "execution_count": 13,
     "metadata": {},
     "output_type": "execute_result"
    }
   ],
   "source": [
    "# Admission rate for females\n",
    "total_female_applied = df_female.admitted.count()\n",
    "total_female_admitted_table = df_female[df_female['admitted']== True]\n",
    "total_female_admitted = total_female_admitted_table.admitted.sum()\n",
    "rate_female = total_female_admitted / total_female_applied\n",
    "rate_female"
   ]
  },
  {
   "cell_type": "code",
   "execution_count": 6,
   "metadata": {},
   "outputs": [
    {
     "data": {
      "text/plain": [
       "0.48559670781893005"
      ]
     },
     "execution_count": 6,
     "metadata": {},
     "output_type": "execute_result"
    }
   ],
   "source": [
    "# Admission rate for males\n",
    "total_male_applied = df_male.admitted.count()\n",
    "total_male_admitted_table = df_male[df_male['admitted']== True]\n",
    "total_male_admitted = total_male_admitted_table.admitted.sum()\n",
    "rate_male = total_male_admitted / total_male_applied\n",
    "rate_male"
   ]
  },
  {
   "cell_type": "markdown",
   "metadata": {},
   "source": [
    "### Proportion and admission rate for physics majors of each gender"
   ]
  },
  {
   "cell_type": "code",
   "execution_count": 7,
   "metadata": {},
   "outputs": [
    {
     "data": {
      "text/plain": [
       "0.12062256809338522"
      ]
     },
     "execution_count": 7,
     "metadata": {},
     "output_type": "execute_result"
    }
   ],
   "source": [
    "# What proportion of female students are majoring in physics?\n",
    "df_female_physics = df_female[df_female['major']=='Physics']\n",
    "females_studying_physics = df_female_physics.major.count()\n",
    "female_proportion_physics =  females_studying_physics / df_female.major.count()\n",
    "female_proportion_physics"
   ]
  },
  {
   "cell_type": "code",
   "execution_count": 8,
   "metadata": {},
   "outputs": [
    {
     "data": {
      "text/plain": [
       "0.9259259259259259"
      ]
     },
     "execution_count": 8,
     "metadata": {},
     "output_type": "execute_result"
    }
   ],
   "source": [
    "# What proportion of male students are majoring in physics?\n",
    "df_male_physics = df_male[df_male['major']=='Physics']\n",
    "males_studying_physics = df_male_physics.major.count()\n",
    "male_proportion_physics =  males_studying_physics / df_male.major.count()\n",
    "male_proportion_physics"
   ]
  },
  {
   "cell_type": "code",
   "execution_count": 18,
   "metadata": {},
   "outputs": [
    {
     "data": {
      "text/plain": [
       "0.7419354838709677"
      ]
     },
     "execution_count": 18,
     "metadata": {},
     "output_type": "execute_result"
    }
   ],
   "source": [
    "# Admission rate for female physics majors\n",
    "total_female_applied_physics_table = df_female[df_female['major']== 'Physics']\n",
    "total_female_applied_physics = total_female_applied_physics_table.major.count()\n",
    "total_female_admitted_physics_table = total_female_admitted_table[total_female_admitted_table['major']== 'Physics']\n",
    "total_female_admitted_physics = total_female_admitted_physics_table.admitted.count()\n",
    "female_rate_physics = total_female_admitted_physics / total_female_applied_physics\n",
    "female_rate_physics"
   ]
  },
  {
   "cell_type": "code",
   "execution_count": 19,
   "metadata": {},
   "outputs": [
    {
     "data": {
      "text/plain": [
       "0.5155555555555555"
      ]
     },
     "execution_count": 19,
     "metadata": {},
     "output_type": "execute_result"
    }
   ],
   "source": [
    "# Admission rate for male physics majors\n",
    "total_male_applied_physics_table = df_male[df_male['major']== 'Physics']\n",
    "total_male_applied_physics = total_male_applied_physics_table.major.count()\n",
    "total_male_admitted_physics_table = total_male_admitted_table[total_male_admitted_table['major']== 'Physics']\n",
    "total_male_admitted_physics = total_male_admitted_physics_table.admitted.count()\n",
    "male_rate_physics = total_male_admitted_physics / total_male_applied_physics\n",
    "male_rate_physics"
   ]
  },
  {
   "cell_type": "markdown",
   "metadata": {},
   "source": [
    "#### This is where the paradox occurs, cause even though we said earlier that we favored males over females, we can see in here that the females are applied more in physics"
   ]
  },
  {
   "cell_type": "markdown",
   "metadata": {},
   "source": [
    "### Proportion and admission rate for chemistry majors of each gender"
   ]
  },
  {
   "cell_type": "code",
   "execution_count": 21,
   "metadata": {},
   "outputs": [
    {
     "data": {
      "text/plain": [
       "0.8793774319066148"
      ]
     },
     "execution_count": 21,
     "metadata": {},
     "output_type": "execute_result"
    }
   ],
   "source": [
    "# What proportion of female students are majoring in chemistry?\n",
    "df_female_chem = df_female[df_female['major']=='Chemistry']\n",
    "females_studying_chem = df_female_chem.major.count()\n",
    "female_proportion_chem =  females_studying_chem / df_female.major.count()\n",
    "female_proportion_chem"
   ]
  },
  {
   "cell_type": "code",
   "execution_count": 22,
   "metadata": {},
   "outputs": [
    {
     "data": {
      "text/plain": [
       "0.07407407407407407"
      ]
     },
     "execution_count": 22,
     "metadata": {},
     "output_type": "execute_result"
    }
   ],
   "source": [
    "# What proportion of male students are majoring in chemistry?\n",
    "df_male_chem = df_male[df_male['major']=='Chemistry']\n",
    "males_studying_chem = df_male_chem.major.count()\n",
    "male_proportion_chem =  males_studying_chem / df_male.major.count()\n",
    "male_proportion_chem"
   ]
  },
  {
   "cell_type": "code",
   "execution_count": 20,
   "metadata": {},
   "outputs": [
    {
     "data": {
      "text/plain": [
       "0.22566371681415928"
      ]
     },
     "execution_count": 20,
     "metadata": {},
     "output_type": "execute_result"
    }
   ],
   "source": [
    "# Admission rate for female chemistry majors\n",
    "total_female_applied_chem_table = df_female[df_female['major']== 'Chemistry']\n",
    "total_female_applied_chem = total_female_applied_chem_table.major.count()\n",
    "total_female_admitted_chem_table = total_female_admitted_table[total_female_admitted_table['major']== 'Chemistry']\n",
    "total_female_admitted_chem = total_female_admitted_chem_table.admitted.count()\n",
    "female_rate_chem = total_female_admitted_chem / total_female_applied_chem\n",
    "female_rate_chem"
   ]
  },
  {
   "cell_type": "code",
   "execution_count": 23,
   "metadata": {},
   "outputs": [
    {
     "data": {
      "text/plain": [
       "0.1111111111111111"
      ]
     },
     "execution_count": 23,
     "metadata": {},
     "output_type": "execute_result"
    }
   ],
   "source": [
    "# Admission rate for male chemistry majors\n",
    "total_male_applied_chem_table = df_male[df_male['major']== 'Chemistry']\n",
    "total_male_applied_chem = total_male_applied_chem_table.major.count()\n",
    "total_male_admitted_chem_table = total_male_admitted_table[total_male_admitted_table['major']== 'Chemistry']\n",
    "total_male_admitted_chem = total_male_admitted_chem_table.admitted.count()\n",
    "male_rate_chem = total_male_admitted_chem / total_male_applied_chem\n",
    "male_rate_chem"
   ]
  },
  {
   "cell_type": "markdown",
   "metadata": {},
   "source": [
    "#### In here, it happens again, we can see that again, the females are being favored over the males..."
   ]
  },
  {
   "cell_type": "markdown",
   "metadata": {},
   "source": [
    "### Admission rate for each major"
   ]
  },
  {
   "cell_type": "code",
   "execution_count": 31,
   "metadata": {},
   "outputs": [
    {
     "data": {
      "text/plain": [
       "0.54296875"
      ]
     },
     "execution_count": 31,
     "metadata": {},
     "output_type": "execute_result"
    }
   ],
   "source": [
    "# Admission rate for physics majors\n",
    "df_physics_applied_table = df[df['major']=='Physics']\n",
    "df_physics_admitted_table = df[(df['admitted']== True) & (df['major'] == 'Physics')]\n",
    "rate_physics = df_physics_admitted_table.admitted.count() / df_physics_applied_table.admitted.count()\n",
    "rate_physics"
   ]
  },
  {
   "cell_type": "code",
   "execution_count": 32,
   "metadata": {},
   "outputs": [
    {
     "data": {
      "text/plain": [
       "0.21721311475409835"
      ]
     },
     "execution_count": 32,
     "metadata": {},
     "output_type": "execute_result"
    }
   ],
   "source": [
    "# Admission rate for chemistry majors\n",
    "df_chem_applied_table = df[df['major']=='Chemistry']\n",
    "df_chem_admitted_table = df[(df['admitted']== True) & (df['major'] == 'Chemistry')]\n",
    "rate_chem = df_chem_admitted_table.admitted.count() / df_chem_applied_table.admitted.count()\n",
    "rate_chem"
   ]
  }
 ],
 "metadata": {
  "kernelspec": {
   "display_name": "Python 3",
   "language": "python",
   "name": "python3"
  },
  "language_info": {
   "codemirror_mode": {
    "name": "ipython",
    "version": 3
   },
   "file_extension": ".py",
   "mimetype": "text/x-python",
   "name": "python",
   "nbconvert_exporter": "python",
   "pygments_lexer": "ipython3",
   "version": "3.8.5"
  }
 },
 "nbformat": 4,
 "nbformat_minor": 2
}
